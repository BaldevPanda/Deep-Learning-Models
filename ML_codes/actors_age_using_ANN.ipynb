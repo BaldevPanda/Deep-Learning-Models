{
 "cells": [
  {
   "cell_type": "code",
   "execution_count": 57,
   "metadata": {},
   "outputs": [],
   "source": [
    "import os\n",
    "import numpy as np\n",
    "import pandas as pd\n",
    "import matplotlib.pyplot as plt\n",
    "%matplotlib inline\n",
    "from tensorflow.python.keras import utils\n",
    "import cv2\n",
    "from sklearn.preprocessing import LabelEncoder\n",
    "import imageio #to read image\n",
    "from keras.models import Sequential\n",
    "from keras.layers import Dense, Flatten, InputLayer\n",
    "import keras\n",
    "from PIL import Image #For Image resizing\n",
    "import re"
   ]
  },
  {
   "cell_type": "code",
   "execution_count": 3,
   "metadata": {},
   "outputs": [
    {
     "name": "stdout",
     "output_type": "stream",
     "text": [
      "RangeIndex(start=0, stop=19906, step=1)\n",
      "377.jpg\n"
     ]
    }
   ],
   "source": [
    "train=pd.read_csv('C:/Users/HP/Desktop/actor_age/agedetectiontrain/train.csv')\n",
    "test=pd.read_csv('C:\\\\Users\\\\HP\\\\Desktop\\\\actor_age\\\\agedetectiontest\\\\test.csv')\n",
    "print(train.index)\n",
    "print(train.ID[0])"
   ]
  },
  {
   "cell_type": "code",
   "execution_count": 4,
   "metadata": {},
   "outputs": [
    {
     "name": "stdout",
     "output_type": "stream",
     "text": [
      "15715\n",
      "22290.jpg\n",
      "Age group MIDDLE\n"
     ]
    },
    {
     "data": {
      "image/png": "[encoded data removed]",
      "text/plain": [
       "<Figure size 432x288 with 1 Axes>"
      ]
     },
     "metadata": {
      "needs_background": "light"
     },
     "output_type": "display_data"
    }
   ],
   "source": [
    "np.random.seed(20)\n",
    "idx=np.random.choice(train.index)\n",
    "print(idx)\n",
    "img_name=train.ID[idx]\n",
    "print(img_name)\n",
    "img=imageio.imread(os.path.join('C:/Users/HP/Desktop/actor_age/agedetectiontrain/Train',img_name))\n",
    "print('Age group', train.Class[idx])\n",
    "plt.imshow(img)\n",
    "plt.axis('off')\n",
    "plt.show()"
   ]
  },
  {
   "cell_type": "code",
   "execution_count": 5,
   "metadata": {},
   "outputs": [],
   "source": [
    "temp=[]\n",
    "for img_name in train.ID:\n",
    "    img_path=os.path.join('C:/Users/HP/Desktop/actor_age/agedetectiontrain/Train',img_name)\n",
    "    img=imageio.imread(img_path)\n",
    "    img=np.array(Image.fromarray(img).resize((32,32))).astype('float32')\n",
    "    temp.append(img)\n",
    "train_x=np.stack(temp)\n"
   ]
  },
  {
   "cell_type": "code",
   "execution_count": 6,
   "metadata": {},
   "outputs": [
    {
     "name": "stderr",
     "output_type": "stream",
     "text": [
      "IOPub data rate exceeded.\n",
      "The notebook server will temporarily stop sending output\n",
      "to the client in order to avoid crashing it.\n",
      "To change this limit, set the config variable\n",
      "`--NotebookApp.iopub_data_rate_limit`.\n",
      "\n",
      "Current values:\n",
      "NotebookApp.iopub_data_rate_limit=1000000.0 (bytes/sec)\n",
      "NotebookApp.rate_limit_window=3.0 (secs)\n",
      "\n"
     ]
    }
   ],
   "source": [
    "temp=[]\n",
    "for img_name in test.ID:\n",
    "    img_path=os.path.join('C:/Users/HP/Desktop/actor_age/agedetectiontest/Test',img_name)\n",
    "    img=imageio.imread(img_path)\n",
    "    img=np.array(Image.fromarray(img).resize((32,32))).astype('float32')\n",
    "    temp.append(img)\n",
    "print(temp)\n",
    "test_x=np.stack(temp)\n",
    "print(test_x)"
   ]
  },
  {
   "cell_type": "code",
   "execution_count": 7,
   "metadata": {},
   "outputs": [],
   "source": [
    "train_x=train_x/255.\n",
    "test_x=test_x/255."
   ]
  },
  {
   "cell_type": "code",
   "execution_count": 8,
   "metadata": {},
   "outputs": [],
   "source": [
    "lb=LabelEncoder()\n",
    "train_y=lb.fit_transform(train.Class)\n",
    "train_y=utils.np_utils.to_categorical(train_y)"
   ]
  },
  {
   "cell_type": "code",
   "execution_count": 9,
   "metadata": {},
   "outputs": [],
   "source": [
    "input_num_units=(32,32,3)\n",
    "hidden_num_units=500\n",
    "output_num_units=3\n",
    "epochs=5\n",
    "batch_size=128"
   ]
  },
  {
   "cell_type": "code",
   "execution_count": 10,
   "metadata": {},
   "outputs": [
    {
     "name": "stdout",
     "output_type": "stream",
     "text": [
      "WARNING:tensorflow:From C:\\Users\\HP\\Anaconda3\\lib\\site-packages\\tensorflow\\python\\framework\\op_def_library.py:263: colocate_with (from tensorflow.python.framework.ops) is deprecated and will be removed in a future version.\n",
      "Instructions for updating:\n",
      "Colocations handled automatically by placer.\n"
     ]
    }
   ],
   "source": [
    "model=Sequential([\n",
    "    InputLayer(input_shape=input_num_units),\n",
    "    Flatten(),\n",
    "    Dense(units=hidden_num_units, activation='relu'),\n",
    "    Dense(units=output_num_units, activation='softmax'),\n",
    "])"
   ]
  },
  {
   "cell_type": "code",
   "execution_count": 11,
   "metadata": {},
   "outputs": [
    {
     "name": "stdout",
     "output_type": "stream",
     "text": [
      "_________________________________________________________________\n",
      "Layer (type)                 Output Shape              Param #   \n",
      "=================================================================\n",
      "flatten_1 (Flatten)          (None, 3072)              0         \n",
      "_________________________________________________________________\n",
      "dense_1 (Dense)              (None, 500)               1536500   \n",
      "_________________________________________________________________\n",
      "dense_2 (Dense)              (None, 3)                 1503      \n",
      "=================================================================\n",
      "Total params: 1,538,003\n",
      "Trainable params: 1,538,003\n",
      "Non-trainable params: 0\n",
      "_________________________________________________________________\n"
     ]
    }
   ],
   "source": [
    "model.summary()"
   ]
  },
  {
   "cell_type": "code",
   "execution_count": 12,
   "metadata": {},
   "outputs": [],
   "source": [
    "model.compile(optimizer='sgd',loss='categorical_crossentropy' ,metrics=['accuracy'])"
   ]
  },
  {
   "cell_type": "code",
   "execution_count": 13,
   "metadata": {},
   "outputs": [
    {
     "name": "stdout",
     "output_type": "stream",
     "text": [
      "WARNING:tensorflow:From C:\\Users\\HP\\Anaconda3\\lib\\site-packages\\tensorflow\\python\\ops\\math_ops.py:3066: to_int32 (from tensorflow.python.ops.math_ops) is deprecated and will be removed in a future version.\n",
      "Instructions for updating:\n",
      "Use tf.cast instead.\n",
      "Epoch 1/5\n",
      "19906/19906 [==============================] - 7s 368us/step - loss: 0.9052 - acc: 0.5667\n",
      "Epoch 2/5\n",
      "19906/19906 [==============================] - 5s 241us/step - loss: 0.8505 - acc: 0.5988\n",
      "Epoch 3/5\n",
      "19906/19906 [==============================] - 5s 245us/step - loss: 0.8258 - acc: 0.6138\n",
      "Epoch 4/5\n",
      "19906/19906 [==============================] - 5s 241us/step - loss: 0.8167 - acc: 0.6207\n",
      "Epoch 5/5\n",
      "19906/19906 [==============================] - 5s 240us/step - loss: 0.8071 - acc: 0.6272\n"
     ]
    },
    {
     "data": {
      "text/plain": [
       "<keras.callbacks.History at 0x1f785d7d908>"
      ]
     },
     "execution_count": 13,
     "metadata": {},
     "output_type": "execute_result"
    }
   ],
   "source": [
    "model.fit(train_x,train_y,batch_size=batch_size,epochs=epochs,verbose=1)"
   ]
  },
  {
   "cell_type": "code",
   "execution_count": 14,
   "metadata": {},
   "outputs": [
    {
     "name": "stdout",
     "output_type": "stream",
     "text": [
      "Train on 15924 samples, validate on 3982 samples\n",
      "Epoch 1/5\n",
      "15924/15924 [==============================] - 4s 257us/step - loss: 0.8048 - acc: 0.6291 - val_loss: 0.8317 - val_acc: 0.6102\n",
      "Epoch 2/5\n",
      "15924/15924 [==============================] - 4s 250us/step - loss: 0.7967 - acc: 0.6334 - val_loss: 0.8178 - val_acc: 0.6143\n",
      "Epoch 3/5\n",
      "15924/15924 [==============================] - 4s 256us/step - loss: 0.7970 - acc: 0.6331 - val_loss: 0.8504 - val_acc: 0.5967\n",
      "Epoch 4/5\n",
      "15924/15924 [==============================] - 4s 264us/step - loss: 0.7854 - acc: 0.6435 - val_loss: 0.7821 - val_acc: 0.6404\n",
      "Epoch 5/5\n",
      "15924/15924 [==============================] - 4s 254us/step - loss: 0.7876 - acc: 0.6380 - val_loss: 0.7729 - val_acc: 0.6532\n"
     ]
    },
    {
     "data": {
      "text/plain": [
       "<keras.callbacks.History at 0x1f793d8e400>"
      ]
     },
     "execution_count": 14,
     "metadata": {},
     "output_type": "execute_result"
    }
   ],
   "source": [
    "model.fit(train_x,train_y,batch_size=batch_size,epochs=epochs,verbose=1, validation_split=0.2)"
   ]
  },
  {
   "cell_type": "code",
   "execution_count": 22,
   "metadata": {},
   "outputs": [
    {
     "name": "stdout",
     "output_type": "stream",
     "text": [
      "[0 2 0 ... 0 0 0]\n",
      "['MIDDLE' 'YOUNG' 'MIDDLE' ... 'MIDDLE' 'MIDDLE' 'MIDDLE']\n"
     ]
    }
   ],
   "source": [
    "pred=model.predict_classes(test_x)\n",
    "print(pred)\n",
    "pred=lb.inverse_transform(pred)\n",
    "print(pred)\n",
    "test['Class']=pred\n",
    "test.to_csv('C:/Users/HP/Desktop/actor_age/agedetectiontest/out.csv', index=False)"
   ]
  },
  {
   "cell_type": "code",
   "execution_count": 54,
   "metadata": {},
   "outputs": [
    {
     "name": "stdout",
     "output_type": "stream",
     "text": [
      "[0 2 0 ... 0 2 0]\n",
      "['MIDDLE' 'YOUNG' 'MIDDLE' ... 'MIDDLE' 'YOUNG' 'MIDDLE']\n",
      "MIDDLE\n",
      "Original MIDDLE predicted MIDDLE\n"
     ]
    },
    {
     "data": {
      "image/png": "[encoded data removed]",
      "text/plain": [
       "<Figure size 432x288 with 1 Axes>"
      ]
     },
     "metadata": {
      "needs_background": "light"
     },
     "output_type": "display_data"
    }
   ],
   "source": [
    "idx=2347\n",
    "img_name=train.ID[idx]\n",
    "img=imageio.imread(os.path.join('C:/Users/HP/Desktop/actor_age/agedetectiontrain/Train',img_name))\n",
    "plt.imshow(np.array(Image.fromarray(img).resize((128,128))))\n",
    "pred=model.predict_classes(train_x)\n",
    "print(pred)\n",
    "p=lb.inverse_transform(pred)\n",
    "print(p)\n",
    "print(test.Class[2])\n",
    "print('Original',train.Class[idx],'predicted',p[idx])\n",
    "\n",
    "\n"
   ]
  },
  {
   "cell_type": "code",
   "execution_count": 58,
   "metadata": {},
   "outputs": [
    {
     "name": "stdout",
     "output_type": "stream",
     "text": [
      "Building model using Adam optimizer\n",
      "Train on 15924 samples, validate on 3982 samples\n",
      "Epoch 1/5\n",
      "15924/15924 [==============================] - 22s 1ms/step - loss: 0.9311 - acc: 0.5891 - val_loss: 0.8126 - val_acc: 0.6286\n",
      "Epoch 2/5\n",
      "15924/15924 [==============================] - 22s 1ms/step - loss: 0.8264 - acc: 0.6184 - val_loss: 0.9060 - val_acc: 0.6092\n",
      "Epoch 3/5\n",
      "15924/15924 [==============================] - 23s 1ms/step - loss: 0.8084 - acc: 0.6309 - val_loss: 0.7788 - val_acc: 0.6487\n",
      "Epoch 4/5\n",
      "15924/15924 [==============================] - 23s 1ms/step - loss: 0.7908 - acc: 0.6392 - val_loss: 0.7780 - val_acc: 0.6522\n",
      "Epoch 5/5\n",
      "15924/15924 [==============================] - 24s 1ms/step - loss: 0.7859 - acc: 0.6469 - val_loss: 0.7716 - val_acc: 0.6497\n",
      "Model built sucessfully.\n",
      "\n",
      "Building model using Adadelta optimizer\n",
      "Train on 15924 samples, validate on 3982 samples\n",
      "Epoch 1/5\n",
      "15924/15924 [==============================] - 25s 2ms/step - loss: 0.7892 - acc: 0.6373 - val_loss: 1.0225 - val_acc: 0.4930\n",
      "Epoch 2/5\n",
      "15924/15924 [==============================] - 26s 2ms/step - loss: 0.7717 - acc: 0.6498 - val_loss: 0.7802 - val_acc: 0.6472\n",
      "Epoch 3/5\n",
      "15924/15924 [==============================] - 24s 2ms/step - loss: 0.7578 - acc: 0.6603 - val_loss: 0.8403 - val_acc: 0.6047\n",
      "Epoch 4/5\n",
      "15924/15924 [==============================] - 27s 2ms/step - loss: 0.7486 - acc: 0.6655 - val_loss: 0.7657 - val_acc: 0.6607\n",
      "Epoch 5/5\n",
      "15924/15924 [==============================] - 26s 2ms/step - loss: 0.7377 - acc: 0.6691 - val_loss: 0.7281 - val_acc: 0.6665\n",
      "Model built sucessfully.\n",
      "\n",
      "Building model using Adagrad optimizer\n",
      "Train on 15924 samples, validate on 3982 samples\n",
      "Epoch 1/5\n",
      "15924/15924 [==============================] - 18s 1ms/step - loss: 0.7861 - acc: 0.6643 - val_loss: 0.7390 - val_acc: 0.6657\n",
      "Epoch 2/5\n",
      "15924/15924 [==============================] - 14s 863us/step - loss: 0.7035 - acc: 0.6907 - val_loss: 0.7222 - val_acc: 0.6811\n",
      "Epoch 3/5\n",
      "15924/15924 [==============================] - 14s 863us/step - loss: 0.6913 - acc: 0.6948 - val_loss: 0.7118 - val_acc: 0.6894\n",
      "Epoch 4/5\n",
      "15924/15924 [==============================] - 14s 861us/step - loss: 0.6809 - acc: 0.7035 - val_loss: 0.7164 - val_acc: 0.6793\n",
      "Epoch 5/5\n",
      "15924/15924 [==============================] - 16s 1ms/step - loss: 0.6722 - acc: 0.7055 - val_loss: 0.7066 - val_acc: 0.6871\n",
      "Model built sucessfully.\n",
      "\n",
      "Building model using RMSprop optimizer\n",
      "Train on 15924 samples, validate on 3982 samples\n",
      "Epoch 1/5\n",
      "15924/15924 [==============================] - 18s 1ms/step - loss: 0.7292 - acc: 0.6756 - val_loss: 0.7514 - val_acc: 0.6673\n",
      "Epoch 2/5\n",
      "15924/15924 [==============================] - 18s 1ms/step - loss: 0.7222 - acc: 0.6772 - val_loss: 0.7830 - val_acc: 0.6509\n",
      "Epoch 3/5\n",
      "15924/15924 [==============================] - 17s 1ms/step - loss: 0.7117 - acc: 0.6857 - val_loss: 0.7320 - val_acc: 0.6753\n",
      "Epoch 4/5\n",
      "15924/15924 [==============================] - 20s 1ms/step - loss: 0.7016 - acc: 0.6869 - val_loss: 0.7370 - val_acc: 0.6690\n",
      "Epoch 5/5\n",
      "15924/15924 [==============================] - 25s 2ms/step - loss: 0.6914 - acc: 0.6940 - val_loss: 0.8375 - val_acc: 0.6414\n",
      "Model built sucessfully.\n",
      "\n",
      "Building model using SGD optimizer\n",
      "Train on 15924 samples, validate on 3982 samples\n",
      "Epoch 1/5\n",
      "15924/15924 [==============================] - 16s 994us/step - loss: 0.6180 - acc: 0.7310 - val_loss: 0.6930 - val_acc: 0.6979\n",
      "Epoch 2/5\n",
      "15924/15924 [==============================] - 16s 1ms/step - loss: 0.6081 - acc: 0.7364 - val_loss: 0.6932 - val_acc: 0.6971\n",
      "Epoch 3/5\n",
      "15924/15924 [==============================] - 18s 1ms/step - loss: 0.6042 - acc: 0.7384 - val_loss: 0.6917 - val_acc: 0.6991\n",
      "Epoch 4/5\n",
      "15924/15924 [==============================] - 16s 1ms/step - loss: 0.6023 - acc: 0.7399 - val_loss: 0.6923 - val_acc: 0.6969\n",
      "Epoch 5/5\n",
      "15924/15924 [==============================] - 13s 847us/step - loss: 0.5998 - acc: 0.7402 - val_loss: 0.6948 - val_acc: 0.6966\n",
      "Model built sucessfully.\n",
      "\n"
     ]
    }
   ],
   "source": [
    "def models_with_different_optimizers(list_of_optimizers):    \n",
    "    \n",
    "    for i in range(len(list_of_optimizers)):        \n",
    "        model.compile(loss='categorical_crossentropy',\n",
    "                  optimizer=list_of_optimizers[i], # Learning rate and momentum can be passed inside optimizer\n",
    "                  metrics=['accuracy'])\n",
    "        # Traning the model and writing log files for TensorBoard in distinct directories        \n",
    "        val = re.search('optimizers\\..*\\so', str(list_of_optimizers[i])).group(0)[11:][:-2] # Fetching optimizer name\n",
    "        logdir = r'optims\\\\' + val # Each log file needs to be written in a distinct directory. (Mandatory)\n",
    "        \n",
    "        # Writing graph will take time. Hence, keeping it False.\n",
    "        cb = keras.callbacks.TensorBoard(log_dir=logdir, write_graph=False)         \n",
    "        print('Building model using '+ val + ' optimizer')\n",
    "        history = model.fit(train_x, train_y, epochs=epochs, \n",
    "                           validation_split=0.2,\n",
    "                           callbacks=[cb])\n",
    "        print('Model built sucessfully.')\n",
    "        print('')\n",
    "# Listing the optimizers\n",
    "optims = [keras.optimizers.Adam(), keras.optimizers.Adadelta(), \n",
    "          keras.optimizers.Adagrad(), keras.optimizers.RMSprop(), \n",
    "          keras.optimizers.SGD()]\n",
    "# Calling the function\n",
    "models_with_different_optimizers(optims)\n"
   ]
  },
  {
   "cell_type": "code",
   "execution_count": null,
   "metadata": {},
   "outputs": [],
   "source": []
  }
 ],
 "metadata": {
  "kernelspec": {
   "display_name": "Python 3",
   "language": "python",
   "name": "python3"
  },
  "language_info": {
   "codemirror_mode": {
    "name": "ipython",
    "version": 3
   },
   "file_extension": ".py",
   "mimetype": "text/x-python",
   "name": "python",
   "nbconvert_exporter": "python",
   "pygments_lexer": "ipython3",
   "version": "3.7.3"
  }
 },
 "nbformat": 4,
 "nbformat_minor": 2
}
